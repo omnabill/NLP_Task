{
 "cells": [
  {
   "cell_type": "code",
   "execution_count": 1,
   "metadata": {},
   "outputs": [
    {
     "name": "stderr",
     "output_type": "stream",
     "text": [
      "C:\\Users\\Carnival\\AppData\\Roaming\\Python\\Python37\\site-packages\\pandas\\compat\\_optional.py:138: UserWarning: Pandas requires version '2.7.0' or newer of 'numexpr' (version '2.6.9' currently installed).\n",
      "  warnings.warn(msg, UserWarning)\n"
     ]
    }
   ],
   "source": [
    "import pandas as pd\n",
    "import seaborn as sns \n",
    "import matplotlib.pyplot as plt\n",
    "import numpy as np\n",
    "\n",
    "# import the necessary libraries\n",
    "import nltk\n",
    "import string\n",
    "import re\n",
    "\n",
    "from time import time\n",
    "\n",
    "from gensim.parsing.preprocessing import STOPWORDS\n",
    "from gensim.utils import simple_preprocess\n",
    "from sklearn.model_selection import GridSearchCV\n",
    "\n",
    "from sklearn.model_selection import train_test_split\n",
    "from sklearn.utils.class_weight import compute_sample_weight\n",
    "from sklearn.feature_extraction.text import CountVectorizer, TfidfVectorizer\n",
    "from sklearn.metrics import accuracy_score, confusion_matrix\n",
    "from sklearn.naive_bayes import MultinomialNB\n",
    "from sklearn.pipeline import Pipeline\n",
    "from sklearn.feature_extraction.text import TfidfTransformer\n",
    "from sklearn.linear_model import SGDClassifier,LogisticRegression\n",
    "from sklearn.ensemble import ExtraTreesRegressor\n",
    "from sklearn import model_selection, svm\n",
    "\n",
    "import warnings\n",
    "warnings.filterwarnings('ignore')"
   ]
  },
  {
   "cell_type": "markdown",
   "metadata": {},
   "source": [
    "### First Let's read our data"
   ]
  },
  {
   "cell_type": "code",
   "execution_count": 2,
   "metadata": {},
   "outputs": [],
   "source": [
    "df = pd.read_csv('Job titles and industries.csv')"
   ]
  },
  {
   "cell_type": "code",
   "execution_count": 3,
   "metadata": {},
   "outputs": [
    {
     "data": {
      "text/html": [
       "<div>\n",
       "<style scoped>\n",
       "    .dataframe tbody tr th:only-of-type {\n",
       "        vertical-align: middle;\n",
       "    }\n",
       "\n",
       "    .dataframe tbody tr th {\n",
       "        vertical-align: top;\n",
       "    }\n",
       "\n",
       "    .dataframe thead th {\n",
       "        text-align: right;\n",
       "    }\n",
       "</style>\n",
       "<table border=\"1\" class=\"dataframe\">\n",
       "  <thead>\n",
       "    <tr style=\"text-align: right;\">\n",
       "      <th></th>\n",
       "      <th>job title</th>\n",
       "      <th>industry</th>\n",
       "    </tr>\n",
       "  </thead>\n",
       "  <tbody>\n",
       "    <tr>\n",
       "      <th>0</th>\n",
       "      <td>technical support and helpdesk supervisor - co...</td>\n",
       "      <td>IT</td>\n",
       "    </tr>\n",
       "    <tr>\n",
       "      <th>1</th>\n",
       "      <td>senior technical support engineer</td>\n",
       "      <td>IT</td>\n",
       "    </tr>\n",
       "    <tr>\n",
       "      <th>2</th>\n",
       "      <td>head of it services</td>\n",
       "      <td>IT</td>\n",
       "    </tr>\n",
       "    <tr>\n",
       "      <th>3</th>\n",
       "      <td>js front end engineer</td>\n",
       "      <td>IT</td>\n",
       "    </tr>\n",
       "    <tr>\n",
       "      <th>4</th>\n",
       "      <td>network and telephony controller</td>\n",
       "      <td>IT</td>\n",
       "    </tr>\n",
       "  </tbody>\n",
       "</table>\n",
       "</div>"
      ],
      "text/plain": [
       "                                           job title industry\n",
       "0  technical support and helpdesk supervisor - co...       IT\n",
       "1                  senior technical support engineer       IT\n",
       "2                                head of it services       IT\n",
       "3                              js front end engineer       IT\n",
       "4                   network and telephony controller       IT"
      ]
     },
     "execution_count": 3,
     "metadata": {},
     "output_type": "execute_result"
    }
   ],
   "source": [
    "df.head()"
   ]
  },
  {
   "cell_type": "code",
   "execution_count": 4,
   "metadata": {},
   "outputs": [
    {
     "data": {
      "text/html": [
       "<div>\n",
       "<style scoped>\n",
       "    .dataframe tbody tr th:only-of-type {\n",
       "        vertical-align: middle;\n",
       "    }\n",
       "\n",
       "    .dataframe tbody tr th {\n",
       "        vertical-align: top;\n",
       "    }\n",
       "\n",
       "    .dataframe thead th {\n",
       "        text-align: right;\n",
       "    }\n",
       "</style>\n",
       "<table border=\"1\" class=\"dataframe\">\n",
       "  <thead>\n",
       "    <tr style=\"text-align: right;\">\n",
       "      <th></th>\n",
       "      <th>job title</th>\n",
       "      <th>industry</th>\n",
       "    </tr>\n",
       "  </thead>\n",
       "  <tbody>\n",
       "    <tr>\n",
       "      <th>8581</th>\n",
       "      <td>data entry clerk</td>\n",
       "      <td>Marketing</td>\n",
       "    </tr>\n",
       "    <tr>\n",
       "      <th>8582</th>\n",
       "      <td>content creator</td>\n",
       "      <td>Marketing</td>\n",
       "    </tr>\n",
       "    <tr>\n",
       "      <th>8583</th>\n",
       "      <td>sales &amp; marketing manager</td>\n",
       "      <td>Marketing</td>\n",
       "    </tr>\n",
       "    <tr>\n",
       "      <th>8584</th>\n",
       "      <td>marketing &amp; digital marketing consultant</td>\n",
       "      <td>Marketing</td>\n",
       "    </tr>\n",
       "    <tr>\n",
       "      <th>8585</th>\n",
       "      <td>creative copywriter (arabic/english)</td>\n",
       "      <td>Marketing</td>\n",
       "    </tr>\n",
       "  </tbody>\n",
       "</table>\n",
       "</div>"
      ],
      "text/plain": [
       "                                     job title   industry\n",
       "8581                          data entry clerk  Marketing\n",
       "8582                           content creator  Marketing\n",
       "8583                 sales & marketing manager  Marketing\n",
       "8584  marketing & digital marketing consultant  Marketing\n",
       "8585      creative copywriter (arabic/english)  Marketing"
      ]
     },
     "execution_count": 4,
     "metadata": {},
     "output_type": "execute_result"
    }
   ],
   "source": [
    "df.tail()"
   ]
  },
  {
   "cell_type": "markdown",
   "metadata": {},
   "source": [
    "### Let's Explore our data to understand it .."
   ]
  },
  {
   "cell_type": "code",
   "execution_count": 5,
   "metadata": {},
   "outputs": [
    {
     "name": "stdout",
     "output_type": "stream",
     "text": [
      "<class 'pandas.core.frame.DataFrame'>\n",
      "RangeIndex: 8586 entries, 0 to 8585\n",
      "Data columns (total 2 columns):\n",
      " #   Column     Non-Null Count  Dtype \n",
      "---  ------     --------------  ----- \n",
      " 0   job title  8586 non-null   object\n",
      " 1   industry   8586 non-null   object\n",
      "dtypes: object(2)\n",
      "memory usage: 134.3+ KB\n"
     ]
    }
   ],
   "source": [
    "df.info()"
   ]
  },
  {
   "cell_type": "code",
   "execution_count": 6,
   "metadata": {},
   "outputs": [
    {
     "data": {
      "text/html": [
       "<div>\n",
       "<style scoped>\n",
       "    .dataframe tbody tr th:only-of-type {\n",
       "        vertical-align: middle;\n",
       "    }\n",
       "\n",
       "    .dataframe tbody tr th {\n",
       "        vertical-align: top;\n",
       "    }\n",
       "\n",
       "    .dataframe thead th {\n",
       "        text-align: right;\n",
       "    }\n",
       "</style>\n",
       "<table border=\"1\" class=\"dataframe\">\n",
       "  <thead>\n",
       "    <tr style=\"text-align: right;\">\n",
       "      <th></th>\n",
       "      <th>job title</th>\n",
       "      <th>industry</th>\n",
       "    </tr>\n",
       "  </thead>\n",
       "  <tbody>\n",
       "    <tr>\n",
       "      <th>count</th>\n",
       "      <td>8586</td>\n",
       "      <td>8586</td>\n",
       "    </tr>\n",
       "    <tr>\n",
       "      <th>unique</th>\n",
       "      <td>3890</td>\n",
       "      <td>4</td>\n",
       "    </tr>\n",
       "    <tr>\n",
       "      <th>top</th>\n",
       "      <td>marketing executive</td>\n",
       "      <td>IT</td>\n",
       "    </tr>\n",
       "    <tr>\n",
       "      <th>freq</th>\n",
       "      <td>91</td>\n",
       "      <td>4746</td>\n",
       "    </tr>\n",
       "  </tbody>\n",
       "</table>\n",
       "</div>"
      ],
      "text/plain": [
       "                  job title industry\n",
       "count                  8586     8586\n",
       "unique                 3890        4\n",
       "top     marketing executive       IT\n",
       "freq                     91     4746"
      ]
     },
     "execution_count": 6,
     "metadata": {},
     "output_type": "execute_result"
    }
   ],
   "source": [
    "df.describe()"
   ]
  },
  {
   "cell_type": "code",
   "execution_count": 7,
   "metadata": {},
   "outputs": [],
   "source": [
    "\n",
    "df_count = df['industry'].value_counts().rename_axis('Category').reset_index(name='Count')"
   ]
  },
  {
   "cell_type": "code",
   "execution_count": 8,
   "metadata": {},
   "outputs": [
    {
     "data": {
      "text/html": [
       "<div>\n",
       "<style scoped>\n",
       "    .dataframe tbody tr th:only-of-type {\n",
       "        vertical-align: middle;\n",
       "    }\n",
       "\n",
       "    .dataframe tbody tr th {\n",
       "        vertical-align: top;\n",
       "    }\n",
       "\n",
       "    .dataframe thead th {\n",
       "        text-align: right;\n",
       "    }\n",
       "</style>\n",
       "<table border=\"1\" class=\"dataframe\">\n",
       "  <thead>\n",
       "    <tr style=\"text-align: right;\">\n",
       "      <th></th>\n",
       "      <th>Category</th>\n",
       "      <th>Count</th>\n",
       "    </tr>\n",
       "  </thead>\n",
       "  <tbody>\n",
       "    <tr>\n",
       "      <th>0</th>\n",
       "      <td>IT</td>\n",
       "      <td>4746</td>\n",
       "    </tr>\n",
       "    <tr>\n",
       "      <th>1</th>\n",
       "      <td>Marketing</td>\n",
       "      <td>2031</td>\n",
       "    </tr>\n",
       "    <tr>\n",
       "      <th>2</th>\n",
       "      <td>Education</td>\n",
       "      <td>1435</td>\n",
       "    </tr>\n",
       "    <tr>\n",
       "      <th>3</th>\n",
       "      <td>Accountancy</td>\n",
       "      <td>374</td>\n",
       "    </tr>\n",
       "  </tbody>\n",
       "</table>\n",
       "</div>"
      ],
      "text/plain": [
       "      Category  Count\n",
       "0           IT   4746\n",
       "1    Marketing   2031\n",
       "2    Education   1435\n",
       "3  Accountancy    374"
      ]
     },
     "execution_count": 8,
     "metadata": {},
     "output_type": "execute_result"
    }
   ],
   "source": [
    "df_count.head()"
   ]
  },
  {
   "cell_type": "code",
   "execution_count": 9,
   "metadata": {},
   "outputs": [
    {
     "data": {
      "image/png": "[encoded data removed]",
      "text/plain": [
       "<Figure size 720x504 with 1 Axes>"
      ]
     },
     "metadata": {
      "needs_background": "light"
     },
     "output_type": "display_data"
    }
   ],
   "source": [
    "plt.figure(figsize=(10,7))\n",
    "sns.barplot(x=df_count.Category,y=df_count.Count/len(df))\n",
    "plt.show()"
   ]
  },
  {
   "cell_type": "code",
   "execution_count": 10,
   "metadata": {},
   "outputs": [
    {
     "data": {
      "text/plain": [
       "0    0.552760\n",
       "1    0.236548\n",
       "2    0.167133\n",
       "3    0.043559\n",
       "Name: Count, dtype: float64"
      ]
     },
     "execution_count": 10,
     "metadata": {},
     "output_type": "execute_result"
    }
   ],
   "source": [
    "df_count.Count/len(df)"
   ]
  },
  {
   "cell_type": "markdown",
   "metadata": {},
   "source": [
    "Here there is a Class Less than 5% of existance which is \"Accountancy\" , So this can be a Way of imbalanced data that can disturb our model .\n",
    "\n",
    "This is a Problem That should be dealed with before passing our data to a model ."
   ]
  },
  {
   "cell_type": "markdown",
   "metadata": {},
   "source": [
    "### Let's complete First our EDA for our data . "
   ]
  },
  {
   "cell_type": "markdown",
   "metadata": {},
   "source": [
    "#### Let's check first for duplicated rows "
   ]
  },
  {
   "cell_type": "code",
   "execution_count": 11,
   "metadata": {},
   "outputs": [
    {
     "data": {
      "text/html": [
       "<div>\n",
       "<style scoped>\n",
       "    .dataframe tbody tr th:only-of-type {\n",
       "        vertical-align: middle;\n",
       "    }\n",
       "\n",
       "    .dataframe tbody tr th {\n",
       "        vertical-align: top;\n",
       "    }\n",
       "\n",
       "    .dataframe thead th {\n",
       "        text-align: right;\n",
       "    }\n",
       "</style>\n",
       "<table border=\"1\" class=\"dataframe\">\n",
       "  <thead>\n",
       "    <tr style=\"text-align: right;\">\n",
       "      <th></th>\n",
       "      <th>job title</th>\n",
       "      <th>industry</th>\n",
       "    </tr>\n",
       "  </thead>\n",
       "  <tbody>\n",
       "    <tr>\n",
       "      <th>7</th>\n",
       "      <td>devops engineers x 3 - global brand</td>\n",
       "      <td>IT</td>\n",
       "    </tr>\n",
       "    <tr>\n",
       "      <th>10</th>\n",
       "      <td>devops engineers x 3 - global brand</td>\n",
       "      <td>IT</td>\n",
       "    </tr>\n",
       "    <tr>\n",
       "      <th>11</th>\n",
       "      <td>devops engineers x 3 - global brand</td>\n",
       "      <td>IT</td>\n",
       "    </tr>\n",
       "    <tr>\n",
       "      <th>26</th>\n",
       "      <td>business analyst</td>\n",
       "      <td>IT</td>\n",
       "    </tr>\n",
       "    <tr>\n",
       "      <th>36</th>\n",
       "      <td>.net developer</td>\n",
       "      <td>IT</td>\n",
       "    </tr>\n",
       "    <tr>\n",
       "      <th>...</th>\n",
       "      <td>...</td>\n",
       "      <td>...</td>\n",
       "    </tr>\n",
       "    <tr>\n",
       "      <th>8572</th>\n",
       "      <td>telesales agent</td>\n",
       "      <td>Marketing</td>\n",
       "    </tr>\n",
       "    <tr>\n",
       "      <th>8575</th>\n",
       "      <td>sales manager</td>\n",
       "      <td>Marketing</td>\n",
       "    </tr>\n",
       "    <tr>\n",
       "      <th>8576</th>\n",
       "      <td>marketing &amp; social media specialist</td>\n",
       "      <td>Marketing</td>\n",
       "    </tr>\n",
       "    <tr>\n",
       "      <th>8580</th>\n",
       "      <td>marketing specialist</td>\n",
       "      <td>Marketing</td>\n",
       "    </tr>\n",
       "    <tr>\n",
       "      <th>8582</th>\n",
       "      <td>content creator</td>\n",
       "      <td>Marketing</td>\n",
       "    </tr>\n",
       "  </tbody>\n",
       "</table>\n",
       "<p>4618 rows × 2 columns</p>\n",
       "</div>"
      ],
      "text/plain": [
       "                                job title   industry\n",
       "7     devops engineers x 3 - global brand         IT\n",
       "10    devops engineers x 3 - global brand         IT\n",
       "11    devops engineers x 3 - global brand         IT\n",
       "26                       business analyst         IT\n",
       "36                         .net developer         IT\n",
       "...                                   ...        ...\n",
       "8572                      telesales agent  Marketing\n",
       "8575                        sales manager  Marketing\n",
       "8576  marketing & social media specialist  Marketing\n",
       "8580                 marketing specialist  Marketing\n",
       "8582                      content creator  Marketing\n",
       "\n",
       "[4618 rows x 2 columns]"
      ]
     },
     "execution_count": 11,
     "metadata": {},
     "output_type": "execute_result"
    }
   ],
   "source": [
    "df[df.duplicated()==True]"
   ]
  },
  {
   "cell_type": "markdown",
   "metadata": {},
   "source": [
    "There are many duplicate rows let's start deal with them through keep one copy of duplicated rows"
   ]
  },
  {
   "cell_type": "code",
   "execution_count": 12,
   "metadata": {},
   "outputs": [],
   "source": [
    "df.drop_duplicates(subset=\"job title\",inplace=True)"
   ]
  },
  {
   "cell_type": "code",
   "execution_count": 13,
   "metadata": {},
   "outputs": [
    {
     "name": "stdout",
     "output_type": "stream",
     "text": [
      "<class 'pandas.core.frame.DataFrame'>\n",
      "Int64Index: 3890 entries, 0 to 8585\n",
      "Data columns (total 2 columns):\n",
      " #   Column     Non-Null Count  Dtype \n",
      "---  ------     --------------  ----- \n",
      " 0   job title  3890 non-null   object\n",
      " 1   industry   3890 non-null   object\n",
      "dtypes: object(2)\n",
      "memory usage: 91.2+ KB\n"
     ]
    }
   ],
   "source": [
    "df.info()"
   ]
  },
  {
   "cell_type": "code",
   "execution_count": 14,
   "metadata": {},
   "outputs": [
    {
     "data": {
      "text/plain": [
       "<matplotlib.axes._subplots.AxesSubplot at 0x221dfe64b38>"
      ]
     },
     "execution_count": 14,
     "metadata": {},
     "output_type": "execute_result"
    },
    {
     "data": {
      "text/plain": [
       "<Figure size 720x432 with 0 Axes>"
      ]
     },
     "metadata": {},
     "output_type": "display_data"
    },
    {
     "data": {
      "image/png": "[encoded data removed]",
      "text/plain": [
       "<Figure size 432x288 with 1 Axes>"
      ]
     },
     "metadata": {
      "needs_background": "light"
     },
     "output_type": "display_data"
    }
   ],
   "source": [
    "plt.figure(figsize=(10,6))\n",
    "df.groupby('industry').count().plot.bar()"
   ]
  },
  {
   "cell_type": "code",
   "execution_count": 15,
   "metadata": {},
   "outputs": [],
   "source": [
    "\n",
    "df_count = df['industry'].value_counts().rename_axis('Category').reset_index(name='Count')"
   ]
  },
  {
   "cell_type": "code",
   "execution_count": 16,
   "metadata": {},
   "outputs": [
    {
     "data": {
      "image/png": "[encoded data removed]",
      "text/plain": [
       "<Figure size 720x504 with 1 Axes>"
      ]
     },
     "metadata": {
      "needs_background": "light"
     },
     "output_type": "display_data"
    }
   ],
   "source": [
    "plt.figure(figsize=(10,7))\n",
    "sns.barplot(x=df_count.Category,y=df_count.Count/len(df))\n",
    "plt.show()"
   ]
  },
  {
   "cell_type": "code",
   "execution_count": 17,
   "metadata": {},
   "outputs": [
    {
     "data": {
      "text/plain": [
       "0    0.392802\n",
       "1    0.295887\n",
       "2    0.244987\n",
       "3    0.066324\n",
       "Name: Count, dtype: float64"
      ]
     },
     "execution_count": 17,
     "metadata": {},
     "output_type": "execute_result"
    }
   ],
   "source": [
    "df_count.Count/len(df)"
   ]
  },
  {
   "cell_type": "markdown",
   "metadata": {},
   "source": [
    "### Let's Deal With text (Text Preprocessing)\n",
    "\n",
    "This Through : \n",
    "\n",
    "1- Remove Stop words Like 'The','and','of',etc...\n",
    "\n",
    "2- change numerical numbers to text notation\n",
    "\n",
    "3- Remove Punctiuations:  We remove punctuations so that we don’t have different forms of the same word. If we don’t remove the punctuation, then been. been, been! will be treated separately.\n",
    "\n",
    "4- Text Lowercase:  to reduce the size of the vocabulary of our text data.\n",
    "\n",
    "5- Remove White spaces"
   ]
  },
  {
   "cell_type": "code",
   "execution_count": 18,
   "metadata": {},
   "outputs": [],
   "source": [
    "import inflect\n",
    "p = inflect.engine()"
   ]
  },
  {
   "cell_type": "code",
   "execution_count": 19,
   "metadata": {},
   "outputs": [
    {
     "data": {
      "text/plain": [
       "0     technical support helpdesk supervisor county b...\n",
       "1                     senior technical support engineer\n",
       "2                                         head services\n",
       "3                                       js end engineer\n",
       "4                          network telephony controller\n",
       "5                   privileged access management expert\n",
       "6                 devops engineers x three global brand\n",
       "8                                         data modeller\n",
       "9                        php web developer based london\n",
       "12           solution technical architect ethical brand\n",
       "13                         lead developer ethical brand\n",
       "14                            junior frontend developer\n",
       "15                   vb net web developer milton keynes\n",
       "16                             data scientist newcastle\n",
       "17                                   senior bi engineer\n",
       "18                            machine learning engineer\n",
       "19                          stack developer oxfordshire\n",
       "20                   c software developer waltham cross\n",
       "21                                 senior data engineer\n",
       "22     erp support analyst unit4 agresso business world\n",
       "Name: job title, dtype: object"
      ]
     },
     "execution_count": 19,
     "metadata": {},
     "output_type": "execute_result"
    }
   ],
   "source": [
    "\n",
    "def Text_Cleaner(text):\n",
    "    \"\"\"\n",
    "        text: a string \n",
    "        return: modified clean string\n",
    "    \"\"\"\n",
    "    result = \"\"\n",
    "    \n",
    "    for token in text.split(' '):\n",
    "        \n",
    "        if token not in STOPWORDS and len(token) >= 1:\n",
    "            \n",
    "            if token.isdigit():\n",
    "                \n",
    "                temp = p.number_to_words(token)  #change numerical number to text\n",
    "                result+=temp+\" \"\n",
    "            else:\n",
    "                \n",
    "                if not re.match(r'£[0-9]+',  token):  \n",
    "                    \n",
    "                    token = token.lower()  #lower case string\n",
    "                    result+=token+\" \"     \n",
    "    translator = str.maketrans('', '', string.punctuation)  #remove punctiuation signs\n",
    "    return \" \".join(result.translate(translator).split())\n",
    "\n",
    "\n",
    "df['job title'] = df['job title'].map(Text_Cleaner)\n",
    "df['job title'].head(20)\n"
   ]
  },
  {
   "cell_type": "markdown",
   "metadata": {},
   "source": [
    "### Deal With imbalanced data and pass it to model .. \n",
    "\n",
    "Train More Than 1 Model For Text Classification\n",
    "\n",
    "1- SGD Classifier with Hyper Parameter Tuning \n",
    "\n",
    "2- Multi nominal Naive Bayes \n",
    "\n",
    "3- Logistic Regression\n",
    "\n",
    "4- SVM (Support vector machine calssifier)"
   ]
  },
  {
   "cell_type": "markdown",
   "metadata": {},
   "source": [
    "### hyper parameter tuning for SGDClassifier ."
   ]
  },
  {
   "cell_type": "code",
   "execution_count": 20,
   "metadata": {},
   "outputs": [],
   "source": [
    "\n",
    "X = df['job title']\n",
    "y = df['industry']\n",
    "X_train, X_test, y_train, y_test = train_test_split(X, y, test_size=0.2, random_state = 42)\n",
    "sample_weight = compute_sample_weight(\"balanced\",y_train)"
   ]
  },
  {
   "cell_type": "code",
   "execution_count": null,
   "metadata": {},
   "outputs": [],
   "source": []
  },
  {
   "cell_type": "code",
   "execution_count": 21,
   "metadata": {},
   "outputs": [
    {
     "name": "stdout",
     "output_type": "stream",
     "text": [
      "Performing grid search...\n",
      "pipeline: ['vect', 'tfidf', 'clf']\n",
      "parameters:\n",
      "{'vect__max_df': (0.5, 0.75, 1.0), 'vect__max_features': (None, 5000, 10000, 50000), 'vect__ngram_range': ((1, 1), (1, 2)), 'clf__max_iter': (10, 50, 80), 'clf__alpha': (1e-05, 1e-06), 'clf__penalty': ('l2', 'elasticnet'), 'clf__loss': ['log', 'hinge']}\n",
      "Fitting 5 folds for each of 576 candidates, totalling 2880 fits\n",
      "done in 133.897s\n",
      "\n",
      "Best score: 0.887\n",
      "Best parameters set:\n",
      "\tclf__alpha: 1e-05\n",
      "\tclf__loss: 'log'\n",
      "\tclf__max_iter: 50\n",
      "\tclf__penalty: 'l2'\n",
      "\tvect__max_df: 0.5\n",
      "\tvect__max_features: 5000\n",
      "\tvect__ngram_range: (1, 1)\n"
     ]
    }
   ],
   "source": [
    "pipeline = Pipeline([\n",
    "    ('vect', CountVectorizer()),\n",
    "    ('tfidf', TfidfTransformer()),\n",
    "    ('clf', SGDClassifier()),\n",
    "])\n",
    "\n",
    "# uncommenting more parameters will give better exploring power but will\n",
    "# increase processing time in a combinatorial way\n",
    "parameters = {\n",
    "    'vect__max_df': (0.5, 0.75, 1.0),\n",
    "    'vect__max_features': (None, 5000, 10000, 50000),\n",
    "    'vect__ngram_range': ((1, 1), (1, 2)),  # unigrams or bigrams\n",
    "    # 'tfidf__use_idf': (True, False),\n",
    "    # 'tfidf__norm': ('l1', 'l2'),\n",
    "    'clf__max_iter': (20,),\n",
    "    'clf__alpha': (0.00001, 0.000001),\n",
    "    'clf__penalty': ('l2', 'elasticnet'),\n",
    "    'clf__loss': ['log','hinge'],\n",
    "    'clf__max_iter': (10, 50, 80),\n",
    "}\n",
    "\n",
    "\n",
    "# multiprocessing requires the fork to happen in a __main__ protected\n",
    "# block\n",
    "\n",
    "# find the best parameters for both the feature extraction and the\n",
    "# classifier\n",
    "grid_search = GridSearchCV(pipeline, parameters, n_jobs=-1, verbose=1)\n",
    "\n",
    "print(\"Performing grid search...\")\n",
    "print(\"pipeline:\", [name for name, _ in pipeline.steps])\n",
    "print(\"parameters:\")\n",
    "print(parameters)\n",
    "t0 = time()\n",
    "grid_search.fit(X_train, y_train)\n",
    "print(\"done in %0.3fs\" % (time() - t0))\n",
    "print()\n",
    "\n",
    "print(\"Best score: %0.3f\" % grid_search.best_score_)\n",
    "print(\"Best parameters set:\")\n",
    "best_parameters = grid_search.best_estimator_.get_params()\n",
    "for param_name in sorted(parameters.keys()):\n",
    "        print(\"\\t%s: %r\" % (param_name, best_parameters[param_name]))"
   ]
  },
  {
   "cell_type": "code",
   "execution_count": 22,
   "metadata": {},
   "outputs": [
    {
     "name": "stdout",
     "output_type": "stream",
     "text": [
      "accuracy = 0.8817480719794345\n"
     ]
    }
   ],
   "source": [
    "make_pipline = Pipeline([('vect', CountVectorizer(max_df=0.5,max_features= 50000,ngram_range= (1, 1))),\n",
    "               ('tfidf', TfidfTransformer()),\n",
    "               ('SGD' , SGDClassifier(loss='log', penalty='l2',alpha=1e-05, random_state=42, max_iter=80)),])\n",
    "\n",
    "make_pipline.fit(X_train, y_train, **{'SGD__sample_weight': sample_weight})\n",
    "\n",
    "y_pred = make_pipline.predict(X_test)\n",
    "print('accuracy = {}'.format(accuracy_score(y_pred, y_test)) )"
   ]
  },
  {
   "cell_type": "code",
   "execution_count": null,
   "metadata": {},
   "outputs": [],
   "source": []
  },
  {
   "cell_type": "markdown",
   "metadata": {},
   "source": [
    "### Naive Bayes"
   ]
  },
  {
   "cell_type": "code",
   "execution_count": 23,
   "metadata": {},
   "outputs": [
    {
     "name": "stdout",
     "output_type": "stream",
     "text": [
      "accuracy 0.8663239074550129\n"
     ]
    }
   ],
   "source": [
    "make_pipline = Pipeline([('vect', CountVectorizer()),\n",
    "               ('tfidf', TfidfTransformer()),\n",
    "               ('clf', MultinomialNB()),])\n",
    "\n",
    "make_pipline.fit(X_train, y_train, **{'clf__sample_weight': sample_weight})\n",
    "\n",
    "y_pred = make_pipline.predict(X_test)\n",
    "print('accuracy %s' % accuracy_score(y_pred, y_test))"
   ]
  },
  {
   "cell_type": "code",
   "execution_count": 32,
   "metadata": {},
   "outputs": [
    {
     "data": {
      "text/plain": [
       "array(['Marketing', 'IT', 'Marketing', 'Education', 'IT', 'Education',\n",
       "       'IT', 'IT', 'Education', 'IT', 'Marketing', 'Marketing',\n",
       "       'Marketing', 'IT', 'IT', 'IT', 'IT', 'Education', 'Marketing',\n",
       "       'Marketing', 'IT', 'IT', 'Education', 'Education', 'Accountancy',\n",
       "       'IT', 'Marketing', 'Accountancy', 'IT', 'IT', 'Education',\n",
       "       'Marketing', 'Marketing', 'Education', 'Marketing', 'Education',\n",
       "       'Marketing', 'IT', 'Education', 'Marketing', 'Education', 'IT',\n",
       "       'IT', 'IT', 'IT', 'Accountancy', 'Education', 'Accountancy', 'IT',\n",
       "       'IT', 'Marketing', 'IT', 'Marketing', 'Marketing', 'Marketing',\n",
       "       'IT', 'Marketing', 'IT', 'Accountancy', 'IT', 'IT', 'IT',\n",
       "       'Education', 'IT', 'Accountancy', 'Marketing', 'IT', 'Marketing',\n",
       "       'Marketing', 'IT', 'Marketing', 'Marketing', 'Marketing',\n",
       "       'Education', 'IT', 'Education', 'IT', 'Accountancy', 'Marketing',\n",
       "       'IT', 'Marketing', 'Education', 'IT', 'Education', 'Accountancy',\n",
       "       'Accountancy', 'IT', 'Education', 'IT', 'Marketing', 'Education',\n",
       "       'Marketing', 'IT', 'Education', 'Marketing', 'IT', 'Marketing',\n",
       "       'Marketing', 'Education', 'Marketing', 'IT', 'Marketing', 'IT',\n",
       "       'Education', 'Accountancy', 'IT', 'Education', 'IT', 'Accountancy',\n",
       "       'Marketing', 'IT', 'Accountancy', 'Accountancy', 'Education', 'IT',\n",
       "       'IT', 'Marketing', 'IT', 'Education', 'Marketing', 'IT', 'IT',\n",
       "       'Marketing', 'IT', 'Accountancy', 'Marketing', 'Marketing',\n",
       "       'Marketing', 'IT', 'Education', 'IT', 'IT', 'IT', 'IT',\n",
       "       'Education', 'IT', 'Marketing', 'Education', 'IT', 'IT',\n",
       "       'Education', 'Education', 'IT', 'Accountancy', 'IT', 'IT', 'IT',\n",
       "       'Education', 'IT', 'IT', 'Education', 'Education', 'IT', 'IT',\n",
       "       'IT', 'IT', 'Education', 'Marketing', 'IT', 'IT', 'IT',\n",
       "       'Accountancy', 'IT', 'Education', 'IT', 'Education', 'Marketing',\n",
       "       'Accountancy', 'Marketing', 'IT', 'Marketing', 'IT', 'Education',\n",
       "       'Marketing', 'IT', 'Marketing', 'Education', 'Marketing', 'IT',\n",
       "       'Education', 'IT', 'Marketing', 'Education', 'IT', 'IT',\n",
       "       'Marketing', 'Education', 'Education', 'Education', 'IT',\n",
       "       'Marketing', 'IT', 'IT', 'IT', 'Marketing', 'Education',\n",
       "       'Education', 'Education', 'IT', 'Education', 'Marketing',\n",
       "       'Education', 'Marketing', 'Marketing', 'IT', 'Marketing', 'IT',\n",
       "       'Marketing', 'Education', 'Education', 'Education', 'IT',\n",
       "       'Marketing', 'IT', 'IT', 'Education', 'Marketing', 'Marketing',\n",
       "       'Education', 'Education', 'Accountancy', 'Education', 'IT',\n",
       "       'Marketing', 'IT', 'Marketing', 'Marketing', 'Education',\n",
       "       'Education', 'Education', 'IT', 'IT', 'IT', 'Education', 'IT',\n",
       "       'IT', 'IT', 'Marketing', 'IT', 'Marketing', 'Education', 'IT',\n",
       "       'Marketing', 'IT', 'IT', 'IT', 'Education', 'Marketing', 'IT',\n",
       "       'Marketing', 'Accountancy', 'IT', 'IT', 'IT', 'Marketing',\n",
       "       'Education', 'Accountancy', 'Marketing', 'Marketing', 'Education',\n",
       "       'Education', 'IT', 'IT', 'Education', 'IT', 'Marketing',\n",
       "       'Marketing', 'Marketing', 'IT', 'Education', 'IT', 'Accountancy',\n",
       "       'IT', 'Marketing', 'Education', 'Marketing', 'IT', 'IT', 'IT',\n",
       "       'Marketing', 'Education', 'Marketing', 'IT', 'Marketing',\n",
       "       'Marketing', 'IT', 'IT', 'Marketing', 'Marketing', 'Marketing',\n",
       "       'Education', 'Marketing', 'IT', 'Marketing', 'Marketing',\n",
       "       'Accountancy', 'Marketing', 'Marketing', 'IT', 'Marketing', 'IT',\n",
       "       'Marketing', 'IT', 'Marketing', 'Education', 'IT', 'IT',\n",
       "       'Accountancy', 'Education', 'Education', 'Marketing', 'Marketing',\n",
       "       'IT', 'IT', 'IT', 'Marketing', 'IT', 'Education', 'IT',\n",
       "       'Marketing', 'Marketing', 'Accountancy', 'IT', 'IT', 'IT',\n",
       "       'Education', 'Education', 'Education', 'IT', 'IT', 'IT',\n",
       "       'Marketing', 'IT', 'Education', 'Education', 'IT', 'IT', 'IT',\n",
       "       'IT', 'Marketing', 'Marketing', 'Marketing', 'Education',\n",
       "       'Education', 'Education', 'Education', 'IT', 'Marketing', 'IT',\n",
       "       'Education', 'IT', 'Education', 'Education', 'IT', 'Marketing',\n",
       "       'IT', 'Marketing', 'Education', 'IT', 'Education', 'Marketing',\n",
       "       'Education', 'Education', 'IT', 'Education', 'Accountancy',\n",
       "       'Marketing', 'IT', 'Education', 'IT', 'IT', 'Education', 'IT',\n",
       "       'Marketing', 'Education', 'Education', 'Marketing', 'Marketing',\n",
       "       'Education', 'IT', 'IT', 'Education', 'Education', 'IT', 'IT',\n",
       "       'Marketing', 'IT', 'IT', 'Education', 'Education', 'Marketing',\n",
       "       'IT', 'Education', 'IT', 'IT', 'IT', 'Marketing', 'Education',\n",
       "       'Accountancy', 'IT', 'Education', 'Marketing', 'Marketing', 'IT',\n",
       "       'IT', 'Marketing', 'Marketing', 'Marketing', 'Education',\n",
       "       'Accountancy', 'Marketing', 'Marketing', 'Accountancy',\n",
       "       'Education', 'IT', 'Education', 'IT', 'Marketing', 'IT',\n",
       "       'Marketing', 'IT', 'IT', 'IT', 'Accountancy', 'Education',\n",
       "       'Marketing', 'Marketing', 'Marketing', 'IT', 'Marketing', 'IT',\n",
       "       'Education', 'IT', 'IT', 'Education', 'Marketing', 'Marketing',\n",
       "       'IT', 'Marketing', 'Education', 'IT', 'IT', 'IT', 'Education',\n",
       "       'Education', 'Marketing', 'IT', 'Marketing', 'IT', 'Marketing',\n",
       "       'IT', 'IT', 'Education', 'Education', 'Education', 'Marketing',\n",
       "       'Marketing', 'Marketing', 'Marketing', 'Marketing', 'Education',\n",
       "       'IT', 'IT', 'IT', 'IT', 'Marketing', 'Marketing', 'Marketing',\n",
       "       'Education', 'Marketing', 'Education', 'IT', 'IT', 'IT',\n",
       "       'Marketing', 'Education', 'Marketing', 'Education', 'IT', 'IT',\n",
       "       'IT', 'Education', 'Education', 'IT', 'IT', 'IT', 'Marketing',\n",
       "       'IT', 'Marketing', 'IT', 'Education', 'Education', 'IT',\n",
       "       'Marketing', 'Marketing', 'IT', 'Marketing', 'IT', 'IT', 'IT',\n",
       "       'Marketing', 'Marketing', 'Marketing', 'Education', 'IT',\n",
       "       'Marketing', 'Marketing', 'Education', 'Education', 'Education',\n",
       "       'Marketing', 'Accountancy', 'Education', 'Accountancy',\n",
       "       'Marketing', 'Education', 'IT', 'IT', 'Education', 'Education',\n",
       "       'IT', 'Marketing', 'Education', 'IT', 'IT', 'Education', 'IT',\n",
       "       'Education', 'IT', 'IT', 'Marketing', 'Marketing', 'IT',\n",
       "       'Marketing', 'Marketing', 'Marketing', 'Accountancy', 'Marketing',\n",
       "       'IT', 'Education', 'Marketing', 'IT', 'IT', 'IT', 'Marketing',\n",
       "       'Marketing', 'Marketing', 'Education', 'IT', 'Marketing', 'IT',\n",
       "       'Education', 'IT', 'Marketing', 'IT', 'Education', 'Marketing',\n",
       "       'Marketing', 'Education', 'IT', 'IT', 'Education', 'IT', 'IT',\n",
       "       'Marketing', 'Marketing', 'Marketing', 'IT', 'IT', 'IT',\n",
       "       'Education', 'Marketing', 'Marketing', 'Marketing', 'Education',\n",
       "       'IT', 'IT', 'Marketing', 'IT', 'IT', 'Marketing', 'IT',\n",
       "       'Education', 'IT', 'IT', 'IT', 'Education', 'IT', 'IT',\n",
       "       'Education', 'Education', 'Marketing', 'Marketing', 'Education',\n",
       "       'IT', 'Education', 'Marketing', 'Marketing', 'Education',\n",
       "       'Education', 'Education', 'Marketing', 'IT', 'Accountancy',\n",
       "       'Accountancy', 'IT', 'Education', 'IT', 'Accountancy', 'Marketing',\n",
       "       'IT', 'Marketing', 'Accountancy', 'Marketing', 'Marketing',\n",
       "       'Marketing', 'Education', 'IT', 'Marketing', 'Marketing',\n",
       "       'Accountancy', 'Education', 'Education', 'Marketing', 'Education',\n",
       "       'Marketing', 'Education', 'Education', 'IT', 'IT', 'Education',\n",
       "       'Education', 'Marketing', 'Accountancy', 'Marketing', 'Marketing',\n",
       "       'Marketing', 'Marketing', 'IT', 'IT', 'Accountancy', 'IT', 'IT',\n",
       "       'Marketing', 'IT', 'Marketing', 'Education', 'Marketing',\n",
       "       'Education', 'IT', 'IT', 'Marketing', 'Marketing', 'Education',\n",
       "       'IT', 'IT', 'Marketing', 'Accountancy', 'IT', 'IT', 'Marketing',\n",
       "       'Marketing', 'Marketing', 'Marketing', 'Marketing', 'Marketing',\n",
       "       'Education', 'IT', 'Education', 'IT', 'IT', 'Marketing',\n",
       "       'Marketing', 'Education', 'Marketing', 'Marketing', 'IT', 'IT',\n",
       "       'IT', 'IT', 'IT', 'Education', 'IT', 'Accountancy', 'Education',\n",
       "       'IT', 'Accountancy', 'IT', 'Marketing', 'IT', 'Education',\n",
       "       'Education', 'Marketing', 'IT', 'IT', 'Education', 'Education',\n",
       "       'Education', 'Marketing', 'Accountancy', 'Accountancy', 'IT',\n",
       "       'Accountancy', 'Education', 'Education', 'Marketing', 'IT',\n",
       "       'Marketing', 'Marketing', 'Education', 'Education', 'Education',\n",
       "       'IT', 'IT', 'IT', 'Marketing', 'IT', 'Marketing', 'IT',\n",
       "       'Marketing', 'Education', 'Marketing', 'IT', 'Accountancy', 'IT',\n",
       "       'IT', 'Education', 'Education', 'Marketing', 'IT', 'IT',\n",
       "       'Marketing', 'Marketing', 'IT', 'IT', 'Accountancy', 'IT', 'IT',\n",
       "       'Education', 'IT', 'Marketing', 'IT', 'IT', 'IT', 'IT',\n",
       "       'Marketing', 'Marketing', 'Accountancy', 'Accountancy',\n",
       "       'Accountancy', 'Education', 'Accountancy', 'IT', 'IT', 'IT', 'IT',\n",
       "       'IT', 'Marketing', 'Education', 'IT', 'IT', 'IT', 'Marketing',\n",
       "       'Marketing', 'IT', 'IT', 'Marketing', 'Marketing', 'Education',\n",
       "       'IT', 'Marketing', 'IT', 'Marketing', 'Education', 'Marketing',\n",
       "       'Education', 'IT', 'IT'], dtype=object)"
      ]
     },
     "execution_count": 32,
     "metadata": {},
     "output_type": "execute_result"
    }
   ],
   "source": [
    "y_pred "
   ]
  },
  {
   "cell_type": "markdown",
   "metadata": {},
   "source": [
    "### Logistic Regression"
   ]
  },
  {
   "cell_type": "code",
   "execution_count": 24,
   "metadata": {},
   "outputs": [
    {
     "name": "stdout",
     "output_type": "stream",
     "text": [
      "accuracy 0.8496143958868895\n"
     ]
    }
   ],
   "source": [
    "make_pipline = Pipeline([('vect', CountVectorizer()),\n",
    "               ('tfidf', TfidfTransformer()),\n",
    "               ('log' , LogisticRegression(n_jobs=1, C=1e5)),])\n",
    "\n",
    "make_pipline.fit(X_train, y_train, **{'log__sample_weight': sample_weight})\n",
    "\n",
    "y_pred = make_pipline.predict(X_test)\n",
    "print('accuracy %s' % accuracy_score(y_pred, y_test))"
   ]
  },
  {
   "cell_type": "code",
   "execution_count": null,
   "metadata": {},
   "outputs": [],
   "source": []
  },
  {
   "cell_type": "markdown",
   "metadata": {},
   "source": [
    "### Support Vector Machine"
   ]
  },
  {
   "cell_type": "code",
   "execution_count": 25,
   "metadata": {},
   "outputs": [
    {
     "name": "stdout",
     "output_type": "stream",
     "text": [
      "accuracy 0.890745501285347\n"
     ]
    }
   ],
   "source": [
    "make_pipline = Pipeline([('vect', CountVectorizer()),\n",
    "               ('tfidf', TfidfTransformer()),\n",
    "               ('clf', svm.SVC(C=1.0, kernel='linear', degree=3, gamma='auto',probability=True)),])\n",
    "\n",
    "make_pipline.fit(X_train, y_train, **{'clf__sample_weight': sample_weight})\n",
    "\n",
    "y_pred = make_pipline.predict(X_test)\n",
    "print('accuracy %s' % accuracy_score(y_pred, y_test))\n"
   ]
  },
  {
   "cell_type": "code",
   "execution_count": 26,
   "metadata": {},
   "outputs": [],
   "source": [
    "X_test.to_csv('out.csv', index=False) "
   ]
  },
  {
   "cell_type": "code",
   "execution_count": null,
   "metadata": {},
   "outputs": [],
   "source": []
  },
  {
   "cell_type": "markdown",
   "metadata": {},
   "source": [
    "### Confusion Matrix for the final model Used SVM "
   ]
  },
  {
   "cell_type": "code",
   "execution_count": 27,
   "metadata": {},
   "outputs": [],
   "source": [
    "a = np.flip(df['industry'].unique())"
   ]
  },
  {
   "cell_type": "code",
   "execution_count": 28,
   "metadata": {},
   "outputs": [
    {
     "data": {
      "image/png": "[encoded data removed]",
      "text/plain": [
       "<Figure size 720x576 with 1 Axes>"
      ]
     },
     "metadata": {
      "needs_background": "light"
     },
     "output_type": "display_data"
    }
   ],
   "source": [
    "from sklearn.metrics import confusion_matrix\n",
    "mat = confusion_matrix(y_test, y_pred)\n",
    "plt.figure(figsize=(10,8))\n",
    "ax = sns.heatmap(mat.T, square=True, annot=True, fmt='d', cbar=False,\n",
    "            xticklabels=a, yticklabels=a)\n",
    "bottom, top = ax.get_ylim()\n",
    "ax.set_ylim(bottom + 0.5, top - 0.5)\n",
    "\n",
    "plt.title('Confussion Matrix')\n",
    "plt.xlabel('true label')\n",
    "plt.ylabel('predicted label');"
   ]
  },
  {
   "cell_type": "markdown",
   "metadata": {},
   "source": [
    "IT is the highest class which missed it's labels , while it appeares that Marketing and education missed the leaset"
   ]
  },
  {
   "cell_type": "code",
   "execution_count": 29,
   "metadata": {},
   "outputs": [
    {
     "name": "stdout",
     "output_type": "stream",
     "text": [
      "              precision    recall  f1-score   support\n",
      "\n",
      " Accountancy       0.84      0.77      0.80        56\n",
      "   Education       0.93      0.94      0.93       185\n",
      "   Marketing       0.93      0.87      0.90       326\n",
      "          IT       0.82      0.91      0.87       211\n",
      "\n",
      "    accuracy                           0.89       778\n",
      "   macro avg       0.88      0.87      0.87       778\n",
      "weighted avg       0.89      0.89      0.89       778\n",
      "\n"
     ]
    }
   ],
   "source": [
    "from sklearn import metrics \n",
    "print(metrics.classification_report(y_test, y_pred, target_names=a))\n"
   ]
  },
  {
   "cell_type": "markdown",
   "metadata": {},
   "source": [
    "The performance measurment prove our thoughts from confusion matrix as the marketing and education are the highest classes with true positive rate precision that for classes that are marketing or education and they are classified as marketing or education\n",
    "while Accountancy have the leaset true positive rate "
   ]
  },
  {
   "cell_type": "code",
   "execution_count": 30,
   "metadata": {},
   "outputs": [
    {
     "data": {
      "text/plain": [
       "0.97225024639591"
      ]
     },
     "execution_count": 30,
     "metadata": {},
     "output_type": "execute_result"
    }
   ],
   "source": [
    "metrics.roc_auc_score(y_test, make_pipline.predict_proba(X_test), multi_class='ovr')"
   ]
  },
  {
   "cell_type": "markdown",
   "metadata": {},
   "source": [
    "The Area Under the Receiver Operating Characteristic Curve (AUC) is between 0.5 to 1 which 1 denates the out standing performance of the model, 0.5 the opposite , here 0.97 is a very good score that indicates that our model performance is very good ."
   ]
  },
  {
   "cell_type": "markdown",
   "metadata": {},
   "source": [
    "### Deploy model as RESTFul Api Service"
   ]
  },
  {
   "cell_type": "code",
   "execution_count": 31,
   "metadata": {},
   "outputs": [],
   "source": [
    "# import pickle\n",
    "# pickle.dump(make_pipline, open('final_prediction.pickle', 'wb'))"
   ]
  },
  {
   "cell_type": "code",
   "execution_count": null,
   "metadata": {},
   "outputs": [],
   "source": []
  }
 ],
 "metadata": {
  "kernelspec": {
   "display_name": "Python 3",
   "language": "python",
   "name": "python3"
  },
  "language_info": {
   "codemirror_mode": {
    "name": "ipython",
    "version": 3
   },
   "file_extension": ".py",
   "mimetype": "text/x-python",
   "name": "python",
   "nbconvert_exporter": "python",
   "pygments_lexer": "ipython3",
   "version": "3.7.3"
  }
 },
 "nbformat": 4,
 "nbformat_minor": 2
}
